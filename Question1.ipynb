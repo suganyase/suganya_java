{
  "nbformat": 4,
  "nbformat_minor": 0,
  "metadata": {
    "colab": {
      "provenance": [],
      "authorship_tag": "ABX9TyOCqLwpppIATVtOgClnhhEd",
      "include_colab_link": true
    },
    "kernelspec": {
      "name": "python3",
      "display_name": "Python 3"
    },
    "language_info": {
      "name": "python"
    }
  },
  "cells": [
    {
      "cell_type": "markdown",
      "metadata": {
        "id": "view-in-github",
        "colab_type": "text"
      },
      "source": [
        "<a href=\"https://colab.research.google.com/github/suganyase/suganya_java/blob/main/Question1.ipynb\" target=\"_parent\"><img src=\"https://colab.research.google.com/assets/colab-badge.svg\" alt=\"Open In Colab\"/></a>"
      ]
    },
    {
      "cell_type": "code",
      "execution_count": null,
      "metadata": {
        "id": "m9fmj0k91U18"
      },
      "outputs": [],
      "source": [
        "public class Floatsumproblem1 {  \n",
        "    public static void main(String[] args) {  \n",
        "        Float f1 = 8.6f;  \n",
        "        Float f2 = 9.7f;   \n",
        "        Float f3 = Float.sum(f1,f2);  \n",
        "        System.out.println(\"Num1 = \"+f1);  \n",
        "        System.out.println(\"Num2 = \"+f2);  \n",
        "        System.out.println(\"Sum of two numbers = \"+f3);  \n",
        "  \n",
        "    }  \n",
        "}  "
      ]
    }
  ]
}