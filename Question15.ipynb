{
  "nbformat": 4,
  "nbformat_minor": 0,
  "metadata": {
    "colab": {
      "provenance": [],
      "authorship_tag": "ABX9TyOffextYpdMxdJ4hgujpW3w",
      "include_colab_link": true
    },
    "kernelspec": {
      "name": "python3",
      "display_name": "Python 3"
    },
    "language_info": {
      "name": "python"
    }
  },
  "cells": [
    {
      "cell_type": "markdown",
      "metadata": {
        "id": "view-in-github",
        "colab_type": "text"
      },
      "source": [
        "<a href=\"https://colab.research.google.com/github/suganyase/suganya_java/blob/main/Question15.ipynb\" target=\"_parent\"><img src=\"https://colab.research.google.com/assets/colab-badge.svg\" alt=\"Open In Colab\"/></a>"
      ]
    },
    {
      "cell_type": "code",
      "execution_count": 1,
      "metadata": {
        "colab": {
          "base_uri": "https://localhost:8080/",
          "height": 130
        },
        "id": "m9fmj0k91U18",
        "outputId": "00e83a06-b89a-41eb-86f7-285d0bfe178b"
      },
      "outputs": [
        {
          "output_type": "error",
          "ename": "SyntaxError",
          "evalue": "ignored",
          "traceback": [
            "\u001b[0;36m  File \u001b[0;32m\"<ipython-input-1-a578bfb02f62>\"\u001b[0;36m, line \u001b[0;32m3\u001b[0m\n\u001b[0;31m    Float f1 = 8.6f;\u001b[0m\n\u001b[0m                 ^\u001b[0m\n\u001b[0;31mSyntaxError\u001b[0m\u001b[0;31m:\u001b[0m invalid decimal literal\n"
          ]
        }
      ],
      "source": [
        "public class RandomString {\n",
        " static String getAlphaNumericString(int n)\n",
        " {\n",
        "  String AlphaNumericString = \"ABCDEFGHIJKLMNOPQRSTUVWXYZ\"\n",
        "         + \"0123456789\"\n",
        "         + \"abcdefghijklmnopqrstuvxyz\";\n",
        "  StringBuilder sb = new StringBuilder(n);\n",
        " \n",
        "  for (int i = 0; i < n; i++) {\n",
        "   int index\n",
        "    = (int)(AlphaNumericString.length()\n",
        "      * Math.random());\n",
        "   sb.append(AlphaNumericString\n",
        "      .charAt(index));\n",
        "  }\n",
        " \n",
        "  return sb.toString();\n",
        " }\n",
        " \n",
        " public static void main(String[] args)\n",
        " {\n",
        "  int n = 10;\n",
        "  System.out.println(RandomString\n",
        "       .getAlphaNumericString(n));\n",
        " }\n",
        "}"
      ]
    }
  ]
}