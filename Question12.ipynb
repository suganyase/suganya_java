{
  "nbformat": 4,
  "nbformat_minor": 0,
  "metadata": {
    "colab": {
      "provenance": [],
      "authorship_tag": "ABX9TyMepMYfgZzYMnCvhoJyAoQ7",
      "include_colab_link": true
    },
    "kernelspec": {
      "name": "python3",
      "display_name": "Python 3"
    },
    "language_info": {
      "name": "python"
    }
  },
  "cells": [
    {
      "cell_type": "markdown",
      "metadata": {
        "id": "view-in-github",
        "colab_type": "text"
      },
      "source": [
        "<a href=\"https://colab.research.google.com/github/suganyase/suganya_java/blob/main/Question12.ipynb\" target=\"_parent\"><img src=\"https://colab.research.google.com/assets/colab-badge.svg\" alt=\"Open In Colab\"/></a>"
      ]
    },
    {
      "cell_type": "code",
      "execution_count": null,
      "metadata": {
        "colab": {
          "base_uri": "https://localhost:8080/",
          "height": 130
        },
        "id": "m9fmj0k91U18",
        "outputId": "00e83a06-b89a-41eb-86f7-285d0bfe178b"
      },
      "outputs": [
        {
          "output_type": "error",
          "ename": "SyntaxError",
          "evalue": "ignored",
          "traceback": [
            "\u001b[0;36m  File \u001b[0;32m\"<ipython-input-1-a578bfb02f62>\"\u001b[0;36m, line \u001b[0;32m3\u001b[0m\n\u001b[0;31m    Float f1 = 8.6f;\u001b[0m\n\u001b[0m                 ^\u001b[0m\n\u001b[0;31mSyntaxError\u001b[0m\u001b[0;31m:\u001b[0m invalid decimal literal\n"
          ]
        }
      ],
      "source": [
        "public class Number_Objects \n",
        "{\n",
        "    static int count=0;\n",
        "    Number_Objects()\n",
        "    {\n",
        "        count++;\n",
        "    }\n",
        "    public static void main(String[] args) \n",
        "    {\n",
        "        Number_Objects obj1 = new Number_Objects();\n",
        "        Number_Objects obj2 = new Number_Objects();\n",
        "        Number_Objects obj3 = new Number_Objects();\n",
        "        Number_Objects obj4 = new Number_Objects();\n",
        "        System.out.println(\"Number of objects created:\"+count);\n",
        "    }\n",
        "}"
      ]
    }
  ]
}